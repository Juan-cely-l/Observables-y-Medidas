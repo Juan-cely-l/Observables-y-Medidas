{
 "cells": [
  {
   "cell_type": "markdown",
   "metadata": {},
   "source": [
    "**Simule el primer sistema cuántico descrito en la sección 4.1.**\n",
    "\n",
    "El sistema consiste en una partícula confinada a un conjunto discreto de posiciones en una línea. El simulador debe permitir especificar el número de posiciones y un vector ket de estado asignando las amplitudes."
   ]
  },
  {
   "cell_type": "markdown",
   "metadata": {},
   "source": [
    "1. El sistema debe calcular la probabilidad de encontrarlo en una posición en particular."
   ]
  },
  {
   "cell_type": "code",
   "execution_count": 12,
   "metadata": {},
   "outputs": [
    {
     "name": "stdout",
     "output_type": "stream",
     "text": [
      "Punto 1:\n",
      "La probabilidad en la posición 5 es de: 37.38%\n"
     ]
    }
   ],
   "source": [
    "import numpy as np\n",
    "\n",
    "# Definir el array de ejemplo\n",
    "array = np.array([4, 7, 22, 56, 69,71])\n",
    "\n",
    "# Definir el índice de la posición a evaluar\n",
    "x = 5\n",
    "\n",
    "# Calcular el numerador (valor absoluto al cuadrado en la posición j)\n",
    "numerador = np.abs(array[j])**2\n",
    "\n",
    "# Calcular el denominador (norma al cuadrado de todo el array)\n",
    "denominador = np.linalg.norm(array)**2\n",
    "\n",
    "# Verificar si el denominador es cero\n",
    "if denominador == 0:\n",
    "    raise ValueError(\"Error: División por cero debido a una norma cero.\")\n",
    "\n",
    "# Calcular la probabilidad en la posición x\n",
    "prob = (numerador / denominador) * 100  # Multiplicamos por 100 para porcentaje\n",
    "\n",
    "\n",
    "print(f\"Punto 1:\\nLa probabilidad en la posición {x} es de: {prob:.2f}%\")\n"
   ]
  },
  {
   "cell_type": "markdown",
   "metadata": {},
   "source": [
    "2. El sistema si se le da otro vector Ket debe buscar la probabilidad de transitar del primer vector al segundo."
   ]
  },
  {
   "cell_type": "code",
   "execution_count": 14,
   "metadata": {},
   "outputs": [
    {
     "name": "stdout",
     "output_type": "stream",
     "text": [
      "Punto 2:\n",
      "Primer vector: [ 5 11 23 54 65]\n",
      "Segundo vector: [ 0  0 23  0  0]\n",
      "La probabilidad de transitar del primer vector al segundo es de: 6.77%\n"
     ]
    }
   ],
   "source": [
    "import numpy as np\n",
    "\n",
    "# Definir el vector inicial\n",
    "array_a = np.array([5, 11, 23, 54, 65])\n",
    "\n",
    "# Posición j donde se mantendrá el valor, el resto será 0 en array_b\n",
    "j = 2\n",
    "\n",
    "# Crear el segundo vector, copiando el valor en la posición j y el resto en 0\n",
    "array_b = np.zeros_like(array_a)\n",
    "array_b[j] = array_a[j]\n",
    "\n",
    "# Mostrar los vectores originales\n",
    "print(f\"Punto 2:\\nPrimer vector: {array_a}\\nSegundo vector: {array_b}\")\n",
    "\n",
    "# Normalizar los vectores, con manejo de posibles errores de norma cero\n",
    "norm_a = np.linalg.norm(array_a)\n",
    "norm_b = np.linalg.norm(array_b)\n",
    "\n",
    "if norm_a == 0 or norm_b == 0:\n",
    "    raise ValueError(\"Error: División por cero al normalizar un vector.\")\n",
    "\n",
    "array_a_normalized = array_a / norm_a\n",
    "array_b_normalized = array_b / norm_b\n",
    "\n",
    "# Calcular el producto punto entre los vectores normalizados\n",
    "product_point = np.vdot(array_b_normalized, array_a_normalized)\n",
    "\n",
    "# Calcular la probabilidad como el cuadrado del valor absoluto del producto punto\n",
    "probability = np.abs(product_point) ** 2\n",
    "\n",
    "print(f\"La probabilidad de transitar del primer vector al segundo es de: {probability * 100:.2f}%\")\n"
   ]
  },
  {
   "cell_type": "markdown",
   "metadata": {},
   "source": [
    "**Complete los retos de programación del capítulo 4.**\n",
    "1. Amplitud de transición. El sistema puede recibir dos vectores y calcular la probabilidad de transitar de el uno al otro después de hacer la observación"
   ]
  },
  {
   "cell_type": "code",
   "execution_count": 17,
   "metadata": {},
   "outputs": [
    {
     "name": "stdout",
     "output_type": "stream",
     "text": [
      "La probabilidad de transición es: 1.00\n"
     ]
    }
   ],
   "source": [
    "import numpy as np\n",
    "\n",
    "# Definir los vectores inicial y final\n",
    "vector_inicial = np.array([1, 1, 0])  # Vector inicial\n",
    "vector_final = np.array([0, 1, 0])    # Vector final\n",
    "\n",
    "# Calcular el producto interno (o punto)\n",
    "producto_interno = np.dot(vector_final.conj(), vector_inicial)\n",
    "\n",
    "# Calcular la probabilidad de transición\n",
    "probabilidad_de_transicion = np.abs(producto_interno) ** 2\n",
    "\n",
    "\n",
    "print(f\"La probabilidad de transición es: {probabilidad_de_transicion:.2f}\")\n"
   ]
  },
  {
   "cell_type": "markdown",
   "metadata": {},
   "source": [
    "2. Ahora con una matriz que describa un observable y un vector ket, el sistema revisa que la matriz sea hermitiana, y si lo es, calcula la media y la varianza del observable en el estado dado."
   ]
  },
  {
   "cell_type": "code",
   "execution_count": 23,
   "metadata": {},
   "outputs": [
    {
     "name": "stdout",
     "output_type": "stream",
     "text": [
      "La media del observable es: -3.50\n",
      "La varianza del observable es: 0.25\n"
     ]
    }
   ],
   "source": [
    "import numpy as np\n",
    "\n",
    "def calcular_media_varianza(operador_observable, estado_ket):\n",
    "    \n",
    "\n",
    "    \n",
    "    # Verificar si el observable es hermítico\n",
    "    if not np.allclose(operador_observable, operador_observable.conj().T):\n",
    "        return \"El operador observable no es hermítico.\"\n",
    "\n",
    "    # Calcular la media (valor esperado)\n",
    "    media = np.dot(estado_ket.conj().T, np.dot(operador_observable, estado_ket)).real\n",
    "\n",
    "    # Calcular la varianza\n",
    "    estado_ket_transformado = np.dot(operador_observable, estado_ket)\n",
    "    varianza = np.dot(estado_ket.conj().T, np.dot(operador_observable, estado_ket_transformado)).real - media ** 2\n",
    "\n",
    "    return media, varianza\n",
    "\n",
    "# Definir el observable (operador hermítico) y el estado ket\n",
    "operador_observable = np.array([[3, -7j], [7j, 4]])  \n",
    "estado_ket = np.array([np.sqrt(2)/2, np.sqrt(2)/2j])\n",
    "\n",
    "# Calcular la media y la varianza\n",
    "media, varianza = calcular_media_varianza(operador_observable, estado_ket)\n",
    "\n",
    "\n",
    "print(f\"La media del observable es: {media:.2f}\")\n",
    "print(f\"La varianza del observable es: {varianza:.2f}\")\n"
   ]
  },
  {
   "cell_type": "markdown",
   "metadata": {},
   "source": [
    "3. El sistema calcula los valores propios del observable y la probabilidad de que el sistema transite a alguno de los vectores propios después de la observación."
   ]
  },
  {
   "cell_type": "code",
   "execution_count": 29,
   "metadata": {},
   "outputs": [
    {
     "name": "stdout",
     "output_type": "stream",
     "text": [
      "Valores propios del observable: [3.5+6.98212002j 3.5-6.98212002j]\n",
      "Probabilidades de transición a los vectores propios: [0.5 0.5]\n"
     ]
    }
   ],
   "source": [
    "import numpy as np \n",
    "\n",
    "def calcular_probabilidad_transicion(operador_observable, vector_ket):\n",
    "    \n",
    "    \n",
    "    # Calcular los valores propios y los vectores propios de la matriz observable\n",
    "    valores_propios, vectores_propios = np.linalg.eig(operador_observable)\n",
    "\n",
    "    # Calcular las probabilidades de transición a los vectores propios\n",
    "    probabilidades_transicion = np.abs(np.dot(vectores_propios.conj().T, vector_ket)) ** 2\n",
    "\n",
    "    return valores_propios, probabilidades_transicion\n",
    "\n",
    "# Definir el observable (hermítico) y el estado ket\n",
    "operador_observable = np.array([[3, -7], [7, 4]])  # Ejemplo de observable hermítico\n",
    "vector_ket = np.array([1, 0])  # Ejemplo de vector ket\n",
    "\n",
    "# Calcular los valores propios y las probabilidades de transición\n",
    "valores_propios, probabilidades_transicion = calcular_probabilidad_transicion(operador_observable, vector_ket)\n",
    "\n",
    "\n",
    "print(f\"Valores propios del observable: {valores_propios}\")\n",
    "print(f\"Probabilidades de transición a los vectores propios: {probabilidades_transicion}\")\n"
   ]
  },
  {
   "cell_type": "markdown",
   "metadata": {},
   "source": [
    "4. Se considera la dinámica del sistema. Ahora con una serie de matrices Un el sistema calcula el estado final a partir de un estado inicial."
   ]
  },
  {
   "cell_type": "code",
   "execution_count": 35,
   "metadata": {},
   "outputs": [
    {
     "name": "stdout",
     "output_type": "stream",
     "text": [
      "El estado final del sistema es: [2 1]\n"
     ]
    }
   ],
   "source": [
    "import numpy as np\n",
    "\n",
    "def aplicar_matrices_unitarias(estado_inicial, lista_matrices):\n",
    "    estado_final = estado_inicial\n",
    "    for matriz in lista_matrices:\n",
    "        estado_final = np.dot(matriz, estado_final)\n",
    "    return estado_final\n",
    "\n",
    "# Datos de entrada\n",
    "estado_inicial_sistema = np.array([1, 2])  \n",
    "matrices_unitarias_sistema = [np.array([[1, 0], [0, 1]]), \n",
    "                              np.array([[0, 1], [1, 0]])]\n",
    "\n",
    "# Cálculo del estado final\n",
    "estado_final_sistema = aplicar_matrices_unitarias(estado_inicial_sistema, matrices_unitarias_sistema)\n",
    "\n",
    "print(\"El estado final del sistema es:\", estado_final_sistema)\n"
   ]
  },
  {
   "cell_type": "markdown",
   "metadata": {},
   "source": [
    "**Realice los siguientes problemas e incluyalos como ejemplos**\n",
    "Modele en su librería los problemas\n",
    "4.3.1\n",
    "4.3.2\n",
    "4.4.1\n",
    "4.4.2\n",
    "Desarrolle e incluya en el Github una discusión de los ejercicios 4.5.2 y 4.5.3"
   ]
  },
  {
   "cell_type": "markdown",
   "metadata": {},
   "source": [
    "**4.3.1**\n",
    "Find all the possible states the system described in Exercise 4.2.2 can transition into after a measurement has been carried out."
   ]
  },
  {
   "cell_type": "code",
   "execution_count": 37,
   "metadata": {},
   "outputs": [
    {
     "name": "stdout",
     "output_type": "stream",
     "text": [
      "Probabilidad de transición a spin arriba: 0\n",
      "Probabilidad de transición a spin abajo: 1\n"
     ]
    }
   ],
   "source": [
    "import numpy as np\n",
    "\n",
    "# Estado inicial del sistema cuántico\n",
    "vector_estado_inicial = np.array([1, 0])\n",
    "\n",
    "# Matriz del operador de spin en el eje X (Sx)\n",
    "operador_spin_x = np.array([[0, 1], [1, 0]])\n",
    "\n",
    "# Aplicación del operador de spin en X al estado inicial\n",
    "vector_estado_final = np.dot(operador_spin_x, vector_estado_inicial)\n",
    "\n",
    "# Cálculo de la probabilidad para spin up y spin down\n",
    "probabilidad_spin_up = abs(vector_estado_final[0])**2\n",
    "probabilidad_spin_down = abs(vector_estado_final[1])**2\n",
    "\n",
    "\n",
    "print(\"Probabilidad de transición a spin arriba:\", probabilidad_spin_up)\n",
    "print(\"Probabilidad de transición a spin abajo:\", probabilidad_spin_down)\n"
   ]
  },
  {
   "cell_type": "markdown",
   "metadata": {},
   "source": [
    "**4.3.2**\n",
    "Perform the same calculations as in the last example, using Exercise 4.3.1. Then draw the probability distribution of the eigenvalues as in the previous example.\n"
   ]
  },
  {
   "cell_type": "code",
   "execution_count": 43,
   "metadata": {},
   "outputs": [
    {
     "name": "stdout",
     "output_type": "stream",
     "text": [
      "Probabilidad de transición a spin up: 0\n",
      "Probabilidad de transición a spin down: 1\n"
     ]
    },
    {
     "data": {
      "image/png": "[encoded data removed]",
      "text/plain": [
       "<Figure size 640x480 with 1 Axes>"
      ]
     },
     "metadata": {},
     "output_type": "display_data"
    }
   ],
   "source": [
    "import numpy as np\n",
    "import matplotlib.pyplot as plt\n",
    "\n",
    "# Vector de estado inicial del sistema cuántico\n",
    "vector_estado_inicial = np.array([1, 0])\n",
    "\n",
    "# Matriz del operador de spin en el eje Y (Sy)\n",
    "operador_spin_y = np.array([[0, 1], [1, 0]])\n",
    "\n",
    "# Aplicación del operador de spin en Y al estado inicial\n",
    "vector_estado_final = np.dot(operador_spin_y, vector_estado_inicial)\n",
    "\n",
    "# Cálculo de la probabilidad para spin up y spin down\n",
    "probabilidad_spin_up = abs(vector_estado_final[0])**2\n",
    "probabilidad_spin_down = abs(vector_estado_final[1])**2\n",
    "\n",
    "# Imprimir los resultados de probabilidad\n",
    "print(\"Probabilidad de transición a spin up:\", probabilidad_spin_up)\n",
    "print(\"Probabilidad de transición a spin down:\", probabilidad_spin_down)\n",
    "\n",
    "# Cálculo de los valores propios del operador Sy\n",
    "valores_propios, _ = np.linalg.eig(operador_spin_y)\n",
    "\n",
    "# Gráfico de la distribución de probabilidad para los valores propios\n",
    "plt.bar(np.arange(len(valores_propios)), abs(vector_estado_final)**2, color='red')  \n",
    "plt.xticks(np.arange(len(valores_propios)), valores_propios)\n",
    "plt.xlabel('Valores propios')\n",
    "plt.ylabel('Probabilidad')\n",
    "plt.title('Distribución de probabilidad para los valores propios del operador Sy')\n",
    "plt.show()\n"
   ]
  },
  {
   "attachments": {
    "image.png": {
     "image/png": "[encoded data removed]"
    }
   },
   "cell_type": "markdown",
   "metadata": {},
   "source": [
    "**Desarrolle e incluya en el Github una discusión de los ejercicios:**\n",
    "\n",
    "\n",
    "**4.4.1**\n",
    "\n",
    " Verify that\n",
    "\n",
    " ![image.png](attachment:image.png)\n",
    "\n",
    " are unitary matrices. Multiply them and verify that their product is also unitary."
   ]
  },
  {
   "cell_type": "code",
   "execution_count": 44,
   "metadata": {},
   "outputs": [
    {
     "name": "stdout",
     "output_type": "stream",
     "text": [
      "La matriz A es unitaria\n",
      "La matriz B es unitaria\n",
      "El producto de las matrices A y B es unitario\n"
     ]
    }
   ],
   "source": [
    "import numpy as np\n",
    "\n",
    "# Definición de matrices unitarias A y B\n",
    "matriz_A = np.array([[0, 1], [1, 0]])\n",
    "matriz_B = np.array([[np.sqrt(2)/2, np.sqrt(2)/2], [np.sqrt(2)/2, -np.sqrt(2)/2]])\n",
    "\n",
    "# Verificación de unitariedad de la matriz A\n",
    "es_unitaria_A = \"es\" if np.allclose(np.dot(matriz_A.conj().T, matriz_A), np.eye(2)) else \"no es\"\n",
    "\n",
    "# Verificación de unitariedad de la matriz B\n",
    "es_unitaria_B = \"es\" if np.allclose(np.dot(matriz_B.conj().T, matriz_B), np.eye(2)) else \"no es\"\n",
    "\n",
    "# Producto de las matrices A y B\n",
    "producto_AB = np.dot(matriz_A, matriz_B)\n",
    "\n",
    "# Verificación de unitariedad del producto de A y B\n",
    "es_unitario_producto = \"es\" if np.allclose(np.dot(producto_AB.conj().T, producto_AB), np.eye(2)) else \"no es\"\n",
    "\n",
    "# Resultados\n",
    "print(\"La matriz A\", es_unitaria_A, \"unitaria\")\n",
    "print(\"La matriz B\", es_unitaria_B, \"unitaria\")\n",
    "print(\"El producto de las matrices A y B\", es_unitario_producto, \"unitario\")\n"
   ]
  },
  {
   "attachments": {
    "image.png": {
     "image/png": "[encoded data removed]"
    }
   },
   "cell_type": "markdown",
   "metadata": {},
   "source": [
    "**4.4.2**\n",
    "\n",
    "Regresa al Ejemplo 3.3.2 (bola de billar cuántica), mantén el mismo vector de estado inicial [1, 0, 0, 0]T, pero cambia el mapa unitario a\n",
    "\n",
    "![image.png](attachment:image.png)\n",
    "\n",
    "Determina el estado del sistema después de tres pasos de tiempo. ¿Cuál es la probabilidad de que se encuentre la bola cuántica en el punto 3?\n"
   ]
  },
  {
   "cell_type": "code",
   "execution_count": 45,
   "metadata": {},
   "outputs": [
    {
     "name": "stdout",
     "output_type": "stream",
     "text": [
      "El estado del sistema después de 3 iteraciones es: [ 0.        +0.j         -0.70710678+0.70710678j  0.        +0.j\n",
      "  0.        +0.j        ]\n",
      "Probabilidad de encontrar la partícula cuántica en el punto 3: 0.0\n"
     ]
    }
   ],
   "source": [
    "import numpy as np\n",
    "\n",
    "# Definición de la matriz de evolución cuántica\n",
    "matriz_evolucion = np.array([\n",
    "    [0, 1/np.sqrt(2), 1/np.sqrt(2), 0],\n",
    "    [1j/np.sqrt(2), 0, 0, 1/np.sqrt(2)],\n",
    "    [1/np.sqrt(2), 0, 0, 1j/np.sqrt(2)],\n",
    "    [0, 1/np.sqrt(2), -1/np.sqrt(2), 0]\n",
    "])\n",
    "\n",
    "# Estado inicial del sistema cuántico\n",
    "vector_estado_inicial = np.array([1, 0, 0, 0])\n",
    "\n",
    "# Aplicar la matriz de evolución cuántica 3 veces\n",
    "vector_estado_final = np.linalg.matrix_power(matriz_evolucion, 3) @ vector_estado_inicial\n",
    "\n",
    "# Cálculo de la probabilidad de encontrar la partícula en el tercer punto\n",
    "probabilidad_punto_3 = np.abs(vector_estado_final[2])**2\n",
    "\n",
    "# Resultados\n",
    "print(\"El estado del sistema después de 3 iteraciones es:\", vector_estado_final)\n",
    "print(\"Probabilidad de encontrar la partícula cuántica en el punto 3:\", probabilidad_punto_3)\n"
   ]
  },
  {
   "cell_type": "markdown",
   "metadata": {},
   "source": [
    "**Escribe el vector de estado genérico para el sistema de dos partículas con espín. Generalízalo a un sistema con n partículas (esto es importante: ¡será la realización física para registros cuánticos!).**\n",
    "\n",
    "Desarrolle e incluya en el Github una discusión de los ejercicios"
   ]
  },
  {
   "cell_type": "markdown",
   "metadata": {},
   "source": [
    "**4.5.2**\n",
    "\n",
    "Escribe el vector de estado genérico para el sistema de dos partículas con espín. Generalízalo a un sistema con n partículas (esto es importante: ¡será la realización física para registros cuánticos!)."
   ]
  },
  {
   "attachments": {
    "image-2.png": {
     "image/png": "[encoded data removed]"
    },
    "image.png": {
     "image/png": "[encoded data removed]"
    }
   },
   "cell_type": "markdown",
   "metadata": {},
   "source": [
    "**SOlUCION:**\n",
    "El vector de estado genérico para el sistema de dos partículas con espín, denotado como ∣Ψ⟩, es el producto tensorial de los vectores de estado individuales:\n",
    "\n",
    "![image.png](attachment:image.png)\n",
    "\n",
    "Para generalizar este concepto a un sistema con n partículas, podemos extender el producto tensorial para incluir todos los n vectores de estado individuales:\n",
    "\n",
    "![image-2.png](attachment:image-2.png)\n",
    "\n"
   ]
  },
  {
   "attachments": {
    "image.png": {
     "image/png": "[encoded data removed]"
    }
   },
   "cell_type": "markdown",
   "metadata": {},
   "source": [
    "**4.5.3**\n",
    "\n",
    "Supón el mismo escenario que en el Ejemplo 4.5.2 y deja\n",
    "\n",
    "![image.png](attachment:image.png)\n",
    "\n",
    "**¿Es este estado separable?**\n"
   ]
  },
  {
   "attachments": {
    "image-2.png": {
     "image/png": "[encoded data removed]"
    },
    "image-3.png": {
     "image/png": "[encoded data removed]"
    },
    "image.png": {
     "image/png": "[encoded data removed]"
    }
   },
   "cell_type": "markdown",
   "metadata": {},
   "source": [
    "**SOLUCION**\n",
    "Teniendo ∣ϕ⟩ en terminos de estado de la base:\n",
    "\n",
    "![image.png](attachment:image.png)\n",
    "\n",
    "Intentamos expresar esto como un producto tensorial de dos estados. Buscaremos estados ∣α⟩ y ∣β⟩ tales que:\n",
    "\n",
    "![image-2.png](attachment:image-2.png)\n",
    "\n",
    "Expandiendo el producto tensorial, obtenemos:\n",
    "\n",
    "![image-3.png](attachment:image-3.png)\n",
    "\n",
    "Comparando esto con la expresión para ∣ϕ⟩, podemos ver que es imposible encontrar coeficientes a, b, c y d de manera que las dos expresiones sean iguales.\n",
    "En conclusión el estado ∣ϕ⟩ dado por la Ecuación no es separable. Está entrelazado."
   ]
  }
 ],
 "metadata": {
  "kernelspec": {
   "display_name": "Python 3",
   "language": "python",
   "name": "python3"
  },
  "language_info": {
   "codemirror_mode": {
    "name": "ipython",
    "version": 3
   },
   "file_extension": ".py",
   "mimetype": "text/x-python",
   "name": "python",
   "nbconvert_exporter": "python",
   "pygments_lexer": "ipython3",
   "version": "3.11.9"
  }
 },
 "nbformat": 4,
 "nbformat_minor": 2
}
